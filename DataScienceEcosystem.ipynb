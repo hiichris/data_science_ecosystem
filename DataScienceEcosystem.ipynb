{
 "cells": [
  {
   "cell_type": "markdown",
   "id": "e068e512-bbd9-46d6-ba77-5ff8e5982780",
   "metadata": {
    "tags": []
   },
   "source": [
    "# Data Science Tools and Ecosystem"
   ]
  },
  {
   "cell_type": "markdown",
   "id": "0828eb92-e5fd-4164-ab24-44a922f8bf56",
   "metadata": {},
   "source": [
    "In this notebook, Data Science Tools and Ecosystem are summarized."
   ]
  },
  {
   "cell_type": "markdown",
   "id": "0aae4cf1-5a97-4031-852c-408395a22ecb",
   "metadata": {
    "tags": []
   },
   "source": [
    "**Objectives:**\n",
    "* List popular languages for Data Scient\n",
    "* List of commonly used libraries used by Data Scientists\n",
    "* Examles of evaluating arithemetic expression in Python"
   ]
  },
  {
   "cell_type": "markdown",
   "id": "caaa6e5b-f3de-4aa3-9ecd-5a114c697ad7",
   "metadata": {},
   "source": [
    "Some of the popular languages that Data Scientists use are:\n",
    "\n",
    "1. Python\n",
    "2. R\n",
    "3. Java"
   ]
  },
  {
   "cell_type": "markdown",
   "id": "9cfd1564-a2e7-4f21-9a38-3e67a79cbd99",
   "metadata": {
    "tags": []
   },
   "source": [
    "Some of the commonly used libraries used by Data Scientists included:\n",
    "\n",
    "1. Pandas\n",
    "2. SciPy\n",
    "3. Kera\n",
    "4. PyTorch"
   ]
  },
  {
   "cell_type": "markdown",
   "id": "185d5b61-5cb0-4046-b8b8-a9652be03b7b",
   "metadata": {},
   "source": [
    "Data Science Tools |\n",
    "-------------------|\n",
    "Jupyter Notebook |\n",
    "IBM Watson Studio |\n",
    "Anaconda |"
   ]
  },
  {
   "cell_type": "markdown",
   "id": "10466cef-5b3a-471e-8f7d-773b09b8f43f",
   "metadata": {},
   "source": [
    "### Below are a few examples of evaluating arithmetic expressions in Python"
   ]
  },
  {
   "cell_type": "code",
   "execution_count": 7,
   "id": "0f85f80d-d39c-4d7b-b2a3-cdc8a927cff2",
   "metadata": {
    "tags": []
   },
   "outputs": [
    {
     "data": {
      "text/plain": [
       "17"
      ]
     },
     "execution_count": 7,
     "metadata": {},
     "output_type": "execute_result"
    }
   ],
   "source": [
    "# This is a simple arithmetic expression to mutiple then andd integers.\n",
    "(3 * 4) + 5"
   ]
  },
  {
   "cell_type": "code",
   "execution_count": 14,
   "id": "ecad9dd8-0aed-4a78-92d8-d17cc7bff365",
   "metadata": {
    "tags": []
   },
   "outputs": [
    {
     "name": "stdout",
     "output_type": "stream",
     "text": [
      "200 minutes equals to 3.33 hours\n"
     ]
    }
   ],
   "source": [
    "# this will convert 200 minutes to hours by diving by 60\n",
    "minutes = 200\n",
    "hours = minutes/60\n",
    "print(f\"{minutes} minutes equals to {hours:.2f} hours\")"
   ]
  },
  {
   "cell_type": "markdown",
   "id": "ee820113-707f-41a9-962a-9d7d999b6a1f",
   "metadata": {},
   "source": [
    "## Author\n",
    "Chris H."
   ]
  }
 ],
 "metadata": {
  "kernelspec": {
   "display_name": "Python",
   "language": "python",
   "name": "conda-env-python-py"
  },
  "language_info": {
   "codemirror_mode": {
    "name": "ipython",
    "version": 3
   },
   "file_extension": ".py",
   "mimetype": "text/x-python",
   "name": "python",
   "nbconvert_exporter": "python",
   "pygments_lexer": "ipython3",
   "version": "3.7.12"
  }
 },
 "nbformat": 4,
 "nbformat_minor": 5
}
